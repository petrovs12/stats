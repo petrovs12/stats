{
 "cells": [
  {
   "cell_type": "markdown",
   "source": [
    "# Some JuMP Models \n",
    "> Playing around with some of the JuMP tutorials \n",
    "\n",
    "- toc:true- branch: main\n",
    "- badges: true\n",
    "- comments: true\n",
    "- author: Stefan PEtrov "
   ],
   "metadata": {}
  },
  {
   "cell_type": "code",
   "execution_count": 11,
   "source": [
    "\n",
    "using Markdown\n",
    "using InteractiveUtils\n",
    "\n",
    "# begin\n",
    "# \tusing Pkg;Pkg.add(\"Intervals\")\n",
    "# end\n",
    "\n",
    "using JuMP, GLPK,LightGraphs\n",
    "\n",
    "using GraphPlot\n",
    "\n",
    "using DataFrames,DataFramesMeta,CSV, Dates\n",
    "\n",
    "using LinearAlgebra\n",
    "\n",
    "using Distributions\n",
    "\n",
    "using MetaGraphs\n",
    "using Colors"
   ],
   "outputs": [],
   "metadata": {}
  },
  {
   "cell_type": "code",
   "execution_count": 12,
   "source": [
    "include(\"jump_utils.jl\")\n",
    "g=LightGraphs.barabasi_albert(20,3)\n",
    "\n"
   ],
   "outputs": [
    {
     "output_type": "execute_result",
     "data": {
      "text/plain": [
       "{20, 51} undirected simple Int64 graph"
      ]
     },
     "metadata": {},
     "execution_count": 12
    }
   ],
   "metadata": {}
  },
  {
   "cell_type": "code",
   "execution_count": 13,
   "source": [
    "m=vertexCover(g)\n",
    "optimize!(m)\n",
    "optimalVerticles=Dict((x->(x=>value(x))).(JuMP.all_variables(m)))\n",
    "# gplot(g,nodelabel=[value(JuMP.variable_by_name(m,\"x[$i]\")) for i in vertices(g) ],)"
   ],
   "outputs": [
    {
     "output_type": "execute_result",
     "data": {
      "text/plain": [
       "Dict{VariableRef, Float64} with 20 entries:\n",
       "  x[12] => 0.0\n",
       "  x[3]  => 1.0\n",
       "  x[6]  => 1.0\n",
       "  x[15] => 0.0\n",
       "  x[4]  => 1.0\n",
       "  x[13] => 0.0\n",
       "  x[14] => 0.0\n",
       "  x[19] => 0.0\n",
       "  x[1]  => 1.0\n",
       "  x[7]  => 1.0\n",
       "  x[20] => 0.0\n",
       "  x[16] => 0.0\n",
       "  x[9]  => 1.0\n",
       "  x[17] => 0.0\n",
       "  x[18] => 0.0\n",
       "  x[8]  => 0.0\n",
       "  x[5]  => 1.0\n",
       "  x[10] => 1.0\n",
       "  x[2]  => 1.0\n",
       "  x[11] => 0.0"
      ]
     },
     "metadata": {},
     "execution_count": 13
    }
   ],
   "metadata": {}
  },
  {
   "cell_type": "code",
   "execution_count": null,
   "source": [],
   "outputs": [],
   "metadata": {}
  }
 ],
 "metadata": {
  "orig_nbformat": 4,
  "language_info": {
   "file_extension": ".jl",
   "name": "julia",
   "mimetype": "application/julia",
   "version": "1.7.0"
  },
  "kernelspec": {
   "name": "julia-1.7-dev-1.7",
   "display_name": "julia 1.7-DEV 1.7.0-beta3",
   "language": "julia"
  }
 },
 "nbformat": 4,
 "nbformat_minor": 2
}